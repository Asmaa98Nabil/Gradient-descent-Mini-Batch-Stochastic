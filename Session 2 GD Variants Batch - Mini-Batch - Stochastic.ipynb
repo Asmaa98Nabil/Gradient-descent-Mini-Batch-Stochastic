{
 "cells": [
  {
   "cell_type": "markdown",
   "metadata": {},
   "source": [
    "## Practical Work 2"
   ]
  },
  {
   "cell_type": "markdown",
   "metadata": {},
   "source": [
    "For this practical work, the student will have to develop a Python program that is able to implement the gradient descent variants (Batch/Mini-Batch/Stochastic) in order to achieve the linear regression of a set of datapoints."
   ]
  },
  {
   "cell_type": "markdown",
   "metadata": {},
   "source": [
    "#### Import numpy, matplotlib.pyplot and make it inline"
   ]
  },
  {
   "cell_type": "code",
   "execution_count": 1,
   "metadata": {},
   "outputs": [],
   "source": [
    "import pandas as pd\n",
    "import numpy as np\n",
    "from matplotlib import pyplot as plt\n",
    "%matplotlib inline\n",
    "from sklearn.metrics import r2_score"
   ]
  },
  {
   "cell_type": "markdown",
   "metadata": {},
   "source": [
    "To have a dataset or set of data points, the student must generate a pair of arrays <b>X</b> and <b>y</b> with the values in <b>X</b> equally distributed between <b>0</b> and <b>20</b> and the values in <b>y</b> such that: \n",
    "<b>yi = a*xi + b (and a = -2, b = 1)</b>\n"
   ]
  },
  {
   "cell_type": "code",
   "execution_count": 41,
   "metadata": {},
   "outputs": [],
   "source": [
    "a=-2\n",
    "b=1\n",
    "X=np.linspace(0,20)\n",
    "Y=a*X + b  "
   ]
  },
  {
   "cell_type": "code",
   "execution_count": 42,
   "metadata": {},
   "outputs": [],
   "source": [
    "data=X.reshape((-1,1))\n",
    "label=Y.reshape((-1,1))"
   ]
  },
  {
   "cell_type": "code",
   "execution_count": 43,
   "metadata": {},
   "outputs": [
    {
     "data": {
      "text/plain": [
       "((50, 1), (50, 1))"
      ]
     },
     "execution_count": 43,
     "metadata": {},
     "output_type": "execute_result"
    }
   ],
   "source": [
    "data.shape,label.shape"
   ]
  },
  {
   "cell_type": "markdown",
   "metadata": {},
   "source": [
    "#### Use your code from practical session 1 and create a function to perform GD for single variable linear regression.\n",
    "#### The function should take the following input parameters:\n",
    "##### Input data (X), Target Labels (y), Learning Rate (alpha), Maximum number of iterations\n",
    "#### The function should return the following:\n",
    "##### All Theta_0 and Theta_1 values till converge, and equivellant Losses, all hypothesis output, and optimum values of Theta_0 and Theta_1\n",
    "#### Note: you can choose any suitable stop criteria."
   ]
  },
  {
   "cell_type": "code",
   "execution_count": null,
   "metadata": {},
   "outputs": [],
   "source": [
    "def batch_gradient_descent(X, y_true, epochs,learning_parameter):\n",
    "    theta_0=0\n",
    "    theta_1=0\n",
    "    x_0=1\n",
    "    slopes=[]\n",
    "    loss=[]\n",
    "    bias=[]\n",
    "    itere=[]\n",
    "    hyp=[]\n",
    "    for i in range(epochs):\n",
    "        hypothsis_fn=theta_0+theta_1*X\n",
    "        hyp.append(hypothsis_fn)\n",
    "        cost_fn=1/(2*len(X))*np.sum((hypothsis_fn - y_true)**2)\n",
    "        loss.append(cost_fn)\n",
    "        if cost_fn >0.01:\n",
    "            gradient_theta_0=1/(len(X))*np.sum(hypothsis_fn - y_true)\n",
    "            gradient_theta_1=1/(len(X))*np.sum((hypothsis_fn - y_true)*X)\n",
    "            theta_0=theta_0-learning_parameter*gradient_theta_0\n",
    "            bias.append(theta_0)\n",
    "            theta_1=theta_1-learning_parameter*gradient_theta_1\n",
    "            slopes.append(theta_1)\n",
    "            itere.append(i)\n",
    "        else:\n",
    "            break\n",
    "    return theta_0,theta_1,itere,loss,bias,slopes"
   ]
  },
  {
   "cell_type": "code",
   "execution_count": null,
   "metadata": {},
   "outputs": [],
   "source": [
    "theta_0,theta_1,itere,loss,bias,slopes=batch_gradient_descent(data,label,1000,0.001)"
   ]
  },
  {
   "cell_type": "markdown",
   "metadata": {},
   "source": [
    "#### Try your function with any input parameterss of your choice."
   ]
  },
  {
   "cell_type": "markdown",
   "metadata": {},
   "source": [
    "#### Calculate r2 score"
   ]
  },
  {
   "cell_type": "code",
   "execution_count": null,
   "metadata": {},
   "outputs": [],
   "source": [
    "from sklearn.metrics import r2_score"
   ]
  },
  {
   "cell_type": "code",
   "execution_count": null,
   "metadata": {},
   "outputs": [],
   "source": [
    "y=theta_0+(theta_1*data)"
   ]
  },
  {
   "cell_type": "code",
   "execution_count": null,
   "metadata": {},
   "outputs": [],
   "source": [
    "a=r2_score(label,y)\n",
    "a"
   ]
  },
  {
   "cell_type": "markdown",
   "metadata": {},
   "source": [
    "#### Plot loss vs. epochs"
   ]
  },
  {
   "cell_type": "code",
   "execution_count": null,
   "metadata": {},
   "outputs": [],
   "source": [
    "plt.plot(itere,loss, color ='blue', label = 'alpha = 0.001')\n",
    "plt.xlabel(\"Number of iterations\")\n",
    "plt.ylabel(\"cost (J)\")\n",
    "plt.title(\"Effect of Learning Rate On Convergence of Gradient Descent\")\n",
    "plt.legend()"
   ]
  },
  {
   "cell_type": "markdown",
   "metadata": {},
   "source": [
    "#### Plot Theta_0 vs. loss and Theta_1 vs. loss"
   ]
  },
  {
   "cell_type": "code",
   "execution_count": null,
   "metadata": {},
   "outputs": [],
   "source": [
    "plt.plot(bias,loss)"
   ]
  },
  {
   "cell_type": "code",
   "execution_count": null,
   "metadata": {},
   "outputs": [],
   "source": [
    "plt.plot(slopes,loss)"
   ]
  },
  {
   "cell_type": "markdown",
   "metadata": {},
   "source": [
    "#### Plot all regression lines till converge"
   ]
  },
  {
   "cell_type": "code",
   "execution_count": null,
   "metadata": {},
   "outputs": [],
   "source": [
    "plt.scatter(data,label)\n",
    "for i in range(50):\n",
    "    #slopes, bias = np.polyfit(data,y)\n",
    "    plt.plot(data[i],y[i])\n",
    "plt.show()"
   ]
  },
  {
   "cell_type": "markdown",
   "metadata": {},
   "source": [
    "#### Plot the best regression line"
   ]
  },
  {
   "cell_type": "code",
   "execution_count": null,
   "metadata": {},
   "outputs": [],
   "source": [
    "plt.scatter(data,label)\n",
    "plt.plot(data,y, '-',color='red')"
   ]
  },
  {
   "cell_type": "markdown",
   "metadata": {},
   "source": [
    "#### Try different learning rate and number of iterations then plot loss vs. epochs, loss vs. Theat_0 and Theta_1\n",
    "#### all regression lines till converge, and the best regression line\n",
    "#### and see the difference in output."
   ]
  },
  {
   "cell_type": "code",
   "execution_count": null,
   "metadata": {},
   "outputs": [],
   "source": [
    "def batch_gradient_descent(X, y_true, epochs, learning_rate):\n",
    "    theta_0=0\n",
    "    theta_1=0\n",
    "    x_0=1\n",
    "    #learning_parameter=0.001\n",
    "    slopes=[]\n",
    "    loss=[]\n",
    "    bias=[]\n",
    "    itere=[]\n",
    "    hyp=[]\n",
    "    #iterations=1000\n",
    "    for i in range(epochs):\n",
    "        hypothsis_fn=theta_0+theta_1*X\n",
    "        cost_fn=1/(2*len(X))*np.sum((hypothsis_fn - y_true)**2)\n",
    "        if cost_fn >0.01:\n",
    "            hyp.append(hypothsis_fn)\n",
    "            loss.append(cost_fn)\n",
    "            gradient_theta_0=1/(len(X))*np.sum(hypothsis_fn - y_true)\n",
    "            gradient_theta_1=1/(len(X))*np.sum((hypothsis_fn - y_true)*X)\n",
    "            theta_0=theta_0-learning_rate*gradient_theta_0\n",
    "            bias.append(theta_0)\n",
    "            theta_1=theta_1-learning_rate*gradient_theta_1\n",
    "            slopes.append(theta_1)\n",
    "            itere.append(i)\n",
    "        else:\n",
    "            break\n",
    "    return theta_0,theta_1,itere,loss,bias,slopes"
   ]
  },
  {
   "cell_type": "code",
   "execution_count": null,
   "metadata": {},
   "outputs": [],
   "source": [
    "def batch_gradient_descent(X, y_true, epochs, learning_rate):\n",
    "    theta_0=0\n",
    "    theta_1=0\n",
    "    x_0=1\n",
    "    #learning_parameter=0.001\n",
    "    slopes=[]\n",
    "    loss=[]\n",
    "    bias=[]\n",
    "    itere=[]\n",
    "    hyp=[]\n",
    "    #iterations=1000\n",
    "    for i in range(epochs):\n",
    "        hypothsis_fn=theta_0+theta_1*X\n",
    "        cost_fn=1/(2*len(X))*np.sum((hypothsis_fn - y_true)**2)\n",
    "        if cost_fn >0.01:\n",
    "            hyp.append(hypothsis_fn)\n",
    "            loss.append(cost_fn)\n",
    "            gradient_theta_0=1/(len(X))*np.sum(hypothsis_fn - y_true)\n",
    "            gradient_theta_1=1/(len(X))*np.sum((hypothsis_fn - y_true)*X)\n",
    "            theta_0=theta_0-learning_rate*gradient_theta_0\n",
    "            bias.append(theta_0)\n",
    "            theta_1=theta_1-learning_rate*gradient_theta_1\n",
    "            slopes.append(theta_1)\n",
    "            itere.append(i)\n",
    "        else:\n",
    "            break\n",
    "    return theta_0,theta_1,itere,loss,bias,slopes"
   ]
  },
  {
   "cell_type": "code",
   "execution_count": null,
   "metadata": {},
   "outputs": [],
   "source": [
    "theta_0,theta_1,itere,loss,bias,slopes=batch_gradient_descent(data,label,5, learning_rate = 0.1)"
   ]
  },
  {
   "cell_type": "code",
   "execution_count": null,
   "metadata": {},
   "outputs": [],
   "source": [
    "plt.plot(bias,loss)\n",
    "plt.ylabel('loss')\n",
    "plt.xlabel('theta_0')"
   ]
  },
  {
   "cell_type": "code",
   "execution_count": null,
   "metadata": {},
   "outputs": [],
   "source": [
    "plt.plot(slopes,loss)\n",
    "plt.ylabel('loss')\n",
    "plt.xlabel('theta_1')"
   ]
  },
  {
   "cell_type": "code",
   "execution_count": null,
   "metadata": {},
   "outputs": [],
   "source": [
    "plt.plot(itere,loss)\n",
    "plt.xlabel('loss')\n",
    "plt.ylabel('iterations')"
   ]
  },
  {
   "cell_type": "code",
   "execution_count": null,
   "metadata": {},
   "outputs": [],
   "source": [
    "def batch_gradient_descent(X, y_true, epochs, learning_rate):\n",
    "    theta_0=0\n",
    "    theta_1=0\n",
    "    x_0=1\n",
    "    #learning_parameter=0.001\n",
    "    slopes=[]\n",
    "    loss=[]\n",
    "    bias=[]\n",
    "    itere=[]\n",
    "    hyp=[]\n",
    "    #iterations=1000\n",
    "    for i in range(epochs):\n",
    "        np.random.shuffle(X)#------------------------->shuffle the data\n",
    "        hypothsis_fn=theta_0+theta_1*X\n",
    "        cost_fn=1/(2*len(X))*np.sum((hypothsis_fn - y_true)**2)\n",
    "        if cost_fn >0.01:\n",
    "            hyp.append(hypothsis_fn)\n",
    "            loss.append(cost_fn)\n",
    "            gradient_theta_0=1/(len(X))*np.sum(hypothsis_fn - y_true)\n",
    "            gradient_theta_1=1/(len(X))*np.sum((hypothsis_fn - y_true)*X)\n",
    "            theta_0=theta_0-learning_rate*gradient_theta_0\n",
    "            bias.append(theta_0)\n",
    "            theta_1=theta_1-learning_rate*gradient_theta_1\n",
    "            slopes.append(theta_1)\n",
    "            itere.append(i)\n",
    "        else:\n",
    "            break\n",
    "    #print (f' hypothesis={hypothsis_fn},thta_1={slopes},theta_0={bias},cost_fn={loss},num_iterations={itere}')\n",
    "    return theta_0,theta_1,itere,loss,bias,slopes"
   ]
  },
  {
   "cell_type": "code",
   "execution_count": null,
   "metadata": {},
   "outputs": [],
   "source": [
    "theta_0,theta_1,itere,loss,bias,slopes=batch_gradient_descent(data,label,1000,0.001)"
   ]
  },
  {
   "cell_type": "markdown",
   "metadata": {},
   "source": [
    "#### Update the implementation of the Batch GD to be Mini-Batch and repeat the above plots and evaluations\n",
    "#### Change batch size and see the effect\n",
    "### Note: Try once without shuffling the data and once with shuffle and see the effect on the output."
   ]
  },
  {
   "cell_type": "code",
   "execution_count": 55,
   "metadata": {},
   "outputs": [],
   "source": [
    "def mini_batch_gradient_descent(X, y_true,epochs,batch_size ,learning_rate ):\n",
    "    \n",
    "    theta_0=0\n",
    "    theta_1=0\n",
    "    x_0=1\n",
    "    slopes=[]\n",
    "    bias=[]\n",
    "    hyp=[]\n",
    "    loss=[]\n",
    "    itere=[]\n",
    "    total_samples =len(X)     \n",
    "    \n",
    "    for i in range(epochs): \n",
    "        random_indices = np.random.permutation(total_samples)\n",
    "        X_tmp = X[random_indices]\n",
    "        y_tmp = y_true[random_indices]\n",
    "        \n",
    "        for j in range(0,total_samples,batch_size):\n",
    "            Xj = X_tmp[j:j+batch_size]\n",
    "            yj = y_tmp[j:j+batch_size]\n",
    "            hypothsis_fn=theta_0+theta_1*X \n",
    "            cost_fn=1/(2*len(X))*np.sum((hypothsis_fn - y_true)**2)\n",
    "            \n",
    "            gradient_theta_0=1/(len(X))*np.sum(hypothsis_fn - y_true)\n",
    "            gradient_theta_1=1/(len(X))*np.sum((hypothsis_fn - y_true)*X)\n",
    "            \n",
    "            theta_0=theta_0-learning_rate*gradient_theta_0\n",
    "            theta_1=theta_1-learning_rate*gradient_theta_1\n",
    "                \n",
    "            \n",
    "            hyp.append(hypothsis_fn)\n",
    "            slopes.append(theta_1)\n",
    "            bias.append(theta_0)\n",
    "            loss.append(cost_fn)\n",
    "            itere.append(i)\n",
    "        \n",
    "    #return (f' hypothesis={hyp},thta_1={slopes},theta_0={bias},cost_fn={loss},num_iterations={itere}')\n",
    "    return theta_0,theta_1,itere,loss,bias,slopes"
   ]
  },
  {
   "cell_type": "code",
   "execution_count": 56,
   "metadata": {},
   "outputs": [],
   "source": [
    "theta_0,theta_1,itere,loss,bias,slopes=mini_batch_gradient_descent(data,label,1000,10,0.001)"
   ]
  },
  {
   "cell_type": "code",
   "execution_count": 57,
   "metadata": {},
   "outputs": [],
   "source": [
    "y=theta_0+(theta_1*data)"
   ]
  },
  {
   "cell_type": "code",
   "execution_count": 58,
   "metadata": {},
   "outputs": [
    {
     "data": {
      "text/plain": [
       "0.9998130900473595"
      ]
     },
     "execution_count": 58,
     "metadata": {},
     "output_type": "execute_result"
    }
   ],
   "source": [
    "b=r2_score(label,y)\n",
    "b"
   ]
  },
  {
   "cell_type": "code",
   "execution_count": 59,
   "metadata": {},
   "outputs": [
    {
     "data": {
      "text/plain": [
       "Text(0, 0.5, 'theta_0')"
      ]
     },
     "execution_count": 59,
     "metadata": {},
     "output_type": "execute_result"
    },
    {
     "data": {
      "image/png": "[encoded data removed]",
      "text/plain": [
       "<Figure size 432x288 with 1 Axes>"
      ]
     },
     "metadata": {
      "needs_background": "light"
     },
     "output_type": "display_data"
    }
   ],
   "source": [
    "plt.plot(bias,loss)\n",
    "plt.ylabel('loss')\n",
    "plt.ylabel('theta_0')"
   ]
  },
  {
   "cell_type": "code",
   "execution_count": 60,
   "metadata": {},
   "outputs": [
    {
     "data": {
      "text/plain": [
       "Text(0.5, 0, 'theta_1')"
      ]
     },
     "execution_count": 60,
     "metadata": {},
     "output_type": "execute_result"
    },
    {
     "data": {
      "image/png": "[encoded data removed]",
      "text/plain": [
       "<Figure size 432x288 with 1 Axes>"
      ]
     },
     "metadata": {
      "needs_background": "light"
     },
     "output_type": "display_data"
    }
   ],
   "source": [
    "plt.plot(slopes,loss)\n",
    "plt.ylabel('loss')\n",
    "plt.xlabel('theta_1')"
   ]
  },
  {
   "cell_type": "code",
   "execution_count": 61,
   "metadata": {},
   "outputs": [
    {
     "data": {
      "text/plain": [
       "Text(0, 0.5, 'losses')"
      ]
     },
     "execution_count": 61,
     "metadata": {},
     "output_type": "execute_result"
    },
    {
     "data": {
      "image/png": "[encoded data removed]",
      "text/plain": [
       "<Figure size 432x288 with 1 Axes>"
      ]
     },
     "metadata": {
      "needs_background": "light"
     },
     "output_type": "display_data"
    }
   ],
   "source": [
    "plt.plot(itere,loss)\n",
    "plt.xlabel('iterations')\n",
    "plt.ylabel('losses')"
   ]
  },
  {
   "cell_type": "markdown",
   "metadata": {},
   "source": [
    "## Stochastic GD"
   ]
  },
  {
   "cell_type": "markdown",
   "metadata": {},
   "source": [
    "#### Update the implementation of the Batch GD to beStochastic and rpeat the above plots and evaluations\n",
    "#### You can try different learning rate and see its effect.\n",
    "#### Compare to Batch and Mini-Batch GD\n",
    "### Note: Try once without shuffling the data and once with shuffle and see the effect on the output."
   ]
  },
  {
   "cell_type": "code",
   "execution_count": 44,
   "metadata": {},
   "outputs": [],
   "source": [
    "def stochastic_gradient_descent(X, y_true, epochs, learning_rate):\n",
    " \n",
    "    \n",
    "    theta_0=0\n",
    "    theta_1=0\n",
    "    x_0=1\n",
    "    slopes=[]\n",
    "    bias=[]\n",
    "    hyp=[]\n",
    "    loss=[]\n",
    "    itere=[]\n",
    "    total_samples =len(X) \n",
    "    import numpy as np\n",
    "    for i in range(epochs):    \n",
    "        random_index = np.random.randint(0,total_samples-1) # random index from total samples\n",
    "        sample_x = X[random_index]\n",
    "        sample_y = y_true[random_index]\n",
    "        \n",
    "        hypothsis_fn=theta_0+theta_1*sample_x\n",
    "    \n",
    "        gradient_theta_0=np.sum(hypothsis_fn - sample_y)\n",
    "        gradient_theta_1=np.sum((hypothsis_fn - sample_y)*sample_x)\n",
    "        \n",
    "        theta_0=theta_0-learning_rate*gradient_theta_0\n",
    "        bias.append(theta_0)\n",
    "        theta_1=theta_1-learning_rate*gradient_theta_1\n",
    "        slopes.append(theta_1)\n",
    "        \n",
    "        cost_fn=np.sum((hypothsis_fn - sample_y)**2)\n",
    "        loss.append(cost_fn)\n",
    "        itere.append(i)\n",
    "        \n",
    "    return slopes, bias,cost_fn,loss,itere,theta_1,theta_0\n"
   ]
  },
  {
   "cell_type": "code",
   "execution_count": 45,
   "metadata": {},
   "outputs": [],
   "source": [
    "slopes, bias,cost_fn,loss,itere,theta_1,theta_0=stochastic_gradient_descent(data,label,1000,0.0001)\n",
    "y=theta_0+(theta_1*data)"
   ]
  },
  {
   "cell_type": "code",
   "execution_count": 46,
   "metadata": {},
   "outputs": [
    {
     "data": {
      "text/plain": [
       "0.9976953525507859"
      ]
     },
     "execution_count": 46,
     "metadata": {},
     "output_type": "execute_result"
    }
   ],
   "source": [
    "a=r2_score(label,y)\n",
    "a"
   ]
  },
  {
   "cell_type": "code",
   "execution_count": 47,
   "metadata": {},
   "outputs": [
    {
     "data": {
      "text/plain": [
       "[<matplotlib.lines.Line2D at 0x18f55386c70>]"
      ]
     },
     "execution_count": 47,
     "metadata": {},
     "output_type": "execute_result"
    },
    {
     "data": {
      "image/png": "[encoded data removed]",
      "text/plain": [
       "<Figure size 432x288 with 1 Axes>"
      ]
     },
     "metadata": {
      "needs_background": "light"
     },
     "output_type": "display_data"
    }
   ],
   "source": [
    "plt.plot(itere,loss)"
   ]
  },
  {
   "cell_type": "code",
   "execution_count": 48,
   "metadata": {},
   "outputs": [
    {
     "data": {
      "text/plain": [
       "[<matplotlib.lines.Line2D at 0x18f55aef970>]"
      ]
     },
     "execution_count": 48,
     "metadata": {},
     "output_type": "execute_result"
    },
    {
     "data": {
      "image/png": "[encoded data removed]",
      "text/plain": [
       "<Figure size 432x288 with 1 Axes>"
      ]
     },
     "metadata": {
      "needs_background": "light"
     },
     "output_type": "display_data"
    }
   ],
   "source": [
    "plt.plot(bias,loss)"
   ]
  },
  {
   "cell_type": "code",
   "execution_count": 49,
   "metadata": {},
   "outputs": [
    {
     "data": {
      "text/plain": [
       "[<matplotlib.lines.Line2D at 0x18f5536aa00>]"
      ]
     },
     "execution_count": 49,
     "metadata": {},
     "output_type": "execute_result"
    },
    {
     "data": {
      "image/png": "[encoded data removed]",
      "text/plain": [
       "<Figure size 432x288 with 1 Axes>"
      ]
     },
     "metadata": {
      "needs_background": "light"
     },
     "output_type": "display_data"
    }
   ],
   "source": [
    "plt.plot(slopes,loss)"
   ]
  },
  {
   "cell_type": "code",
   "execution_count": null,
   "metadata": {},
   "outputs": [],
   "source": []
  },
  {
   "cell_type": "code",
   "execution_count": null,
   "metadata": {},
   "outputs": [],
   "source": []
  },
  {
   "cell_type": "code",
   "execution_count": null,
   "metadata": {},
   "outputs": [],
   "source": []
  }
 ],
 "metadata": {
  "kernelspec": {
   "display_name": "Python 3",
   "language": "python",
   "name": "python3"
  },
  "language_info": {
   "codemirror_mode": {
    "name": "ipython",
    "version": 3
   },
   "file_extension": ".py",
   "mimetype": "text/x-python",
   "name": "python",
   "nbconvert_exporter": "python",
   "pygments_lexer": "ipython3",
   "version": "3.8.8"
  }
 },
 "nbformat": 4,
 "nbformat_minor": 4
}
